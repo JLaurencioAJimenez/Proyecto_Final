{
 "cells": [
  {
   "cell_type": "code",
   "execution_count": 1,
   "metadata": {},
   "outputs": [],
   "source": [
    "import pandas as pd"
   ]
  },
  {
   "cell_type": "code",
   "execution_count": 4,
   "metadata": {},
   "outputs": [],
   "source": [
    "Archivo1=pd.read_csv(\"Reviews_Entero.csv\")\n",
    "Archivo2=pd.read_csv(\"Reviews_climpio.csv\")\n",
    "Archivo3=pd.read_csv(\"Reviews_limpio_y_analizado.csv\")"
   ]
  },
  {
   "cell_type": "code",
   "execution_count": 5,
   "metadata": {},
   "outputs": [],
   "source": [
    "Archivo1.to_parquet('Reviews_Entero.parquet', index=False)\n",
    "Archivo2.to_parquet('Reviews_climpio.parquet', index=False)\n",
    "Archivo3.to_parquet('Reviews_limpio_y_analizado.parquet', index=False)"
   ]
  }
 ],
 "metadata": {
  "kernelspec": {
   "display_name": "Python 3",
   "language": "python",
   "name": "python3"
  },
  "language_info": {
   "codemirror_mode": {
    "name": "ipython",
    "version": 3
   },
   "file_extension": ".py",
   "mimetype": "text/x-python",
   "name": "python",
   "nbconvert_exporter": "python",
   "pygments_lexer": "ipython3",
   "version": "3.11.4"
  },
  "orig_nbformat": 4
 },
 "nbformat": 4,
 "nbformat_minor": 2
}
