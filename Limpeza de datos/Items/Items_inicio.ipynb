{
 "cells": [
  {
   "cell_type": "code",
   "execution_count": 1,
   "metadata": {},
   "outputs": [],
   "source": [
    "import gzip\n",
    "import ast\n",
    "import json\n",
    "import pandas as pd\n",
    "import numpy as np"
   ]
  },
  {
   "cell_type": "code",
   "execution_count": 2,
   "metadata": {},
   "outputs": [],
   "source": [
    "# Leer el contenido del archivo: user_reviews.json\n",
    "user_items = []\n",
    "with open('australian_users_items.json', 'r', encoding='utf-8') as f:\n",
    "    for line in f.readlines():\n",
    "        user_items.append(ast.literal_eval(line))\n",
    "\n",
    "# Crear el DataFrame anidado\n",
    "df_items_anidado = pd.DataFrame(user_items)\n"
   ]
  },
  {
   "cell_type": "code",
   "execution_count": 4,
   "metadata": {},
   "outputs": [],
   "source": [
    "df_items_anidado=df_items_anidado.drop([\"steam_id\",\"user_url\",\"items_count\"], axis=1)"
   ]
  },
  {
   "cell_type": "code",
   "execution_count": 5,
   "metadata": {},
   "outputs": [],
   "source": [
    "df_items_anidado=df_items_anidado.explode(\"items\")\n",
    "df_items_anidado.reset_index(drop=True,inplace=True)\n",
    "df_items_anidado=df_items_anidado.dropna(subset=[\"items\"])"
   ]
  },
  {
   "cell_type": "code",
   "execution_count": 14,
   "metadata": {},
   "outputs": [],
   "source": [
    "# Normalizar los datos JSON y seleccionar columnas específicas\n",
    "df_items_desanidado = pd.json_normalize(df_items_anidado[\"items\"])\n",
    "df_items_desanidado = df_items_desanidado.assign(user_id=df_items_anidado[\"user_id\"])\n",
    "df_items_desanidado = df_items_desanidado[[\"user_id\", \"item_id\", \"item_name\", \"playtime_forever\"]]\n"
   ]
  },
  {
   "cell_type": "code",
   "execution_count": 7,
   "metadata": {},
   "outputs": [],
   "source": [
    "df_items_desanidado=pd.json_normalize(df_items_anidado[\"items\"]).loc[:,[\"item_id\",\"item_name\",\"playtime_forever\"]]"
   ]
  },
  {
   "cell_type": "code",
   "execution_count": 18,
   "metadata": {},
   "outputs": [],
   "source": [
    "df_items_desanidado = df_items_desanidado[df_items_desanidado['playtime_forever'] != 0]\n"
   ]
  },
  {
   "cell_type": "code",
   "execution_count": 20,
   "metadata": {},
   "outputs": [],
   "source": [
    "# Especifica el nombre del archivo de salida\n",
    "nombre_archivo = \"Items_Entero.csv\"\n",
    "\n",
    "# Guarda el DataFrame en un archivo CSV\n",
    "df_items_desanidado.to_csv(nombre_archivo, index=False)\n",
    "#Archivo faltante ya que github no me dejaba subir ya que exedia el limite de 100mbm, remplazado por parquet"
   ]
  }
 ],
 "metadata": {
  "kernelspec": {
   "display_name": "Python 3",
   "language": "python",
   "name": "python3"
  },
  "language_info": {
   "codemirror_mode": {
    "name": "ipython",
    "version": 3
   },
   "file_extension": ".py",
   "mimetype": "text/x-python",
   "name": "python",
   "nbconvert_exporter": "python",
   "pygments_lexer": "ipython3",
   "version": "3.11.4"
  },
  "orig_nbformat": 4
 },
 "nbformat": 4,
 "nbformat_minor": 2
}
