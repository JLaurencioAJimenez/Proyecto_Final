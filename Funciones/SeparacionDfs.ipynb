{
 "cells": [
  {
   "cell_type": "code",
   "execution_count": 1,
   "metadata": {},
   "outputs": [],
   "source": [
    "import pandas as pd"
   ]
  },
  {
   "cell_type": "code",
   "execution_count": 2,
   "metadata": {},
   "outputs": [],
   "source": [
    "df=pd.read_csv(\"Merge_reviews_items.csv\")\n",
    "df2=pd.read_csv(\"Merge_games_items.csv\")"
   ]
  },
  {
   "cell_type": "markdown",
   "metadata": {},
   "source": [
    "Copia Reccomended"
   ]
  },
  {
   "cell_type": "code",
   "execution_count": 7,
   "metadata": {},
   "outputs": [],
   "source": [
    "copia_df_subset = df[['posted', 'app_name', 'recommend']].copy()\n"
   ]
  },
  {
   "cell_type": "code",
   "execution_count": 10,
   "metadata": {},
   "outputs": [],
   "source": [
    "copia_df_subset = copia_df_subset.dropna()\n"
   ]
  },
  {
   "cell_type": "code",
   "execution_count": 12,
   "metadata": {},
   "outputs": [],
   "source": [
    "# Guardar la copia en un archivo CSV\n",
    "copia_df_subset.to_csv(\"copia_df_subset.csv\", index=False)\n"
   ]
  },
  {
   "cell_type": "markdown",
   "metadata": {},
   "source": [
    "Copia sentiment Analysis "
   ]
  },
  {
   "cell_type": "code",
   "execution_count": 14,
   "metadata": {},
   "outputs": [],
   "source": [
    "# Crear una copia del DataFrame original df con las columnas deseadas\n",
    "copia2_df_subset = df[['sentiment_analysis', 'posted']].copy()\n"
   ]
  },
  {
   "cell_type": "markdown",
   "metadata": {},
   "source": [
    "Copia Genres"
   ]
  },
  {
   "cell_type": "code",
   "execution_count": 22,
   "metadata": {},
   "outputs": [],
   "source": [
    "copia3_df = df2.copy()"
   ]
  },
  {
   "cell_type": "code",
   "execution_count": 23,
   "metadata": {},
   "outputs": [
    {
     "data": {
      "text/html": [
       "<div>\n",
       "<style scoped>\n",
       "    .dataframe tbody tr th:only-of-type {\n",
       "        vertical-align: middle;\n",
       "    }\n",
       "\n",
       "    .dataframe tbody tr th {\n",
       "        vertical-align: top;\n",
       "    }\n",
       "\n",
       "    .dataframe thead th {\n",
       "        text-align: right;\n",
       "    }\n",
       "</style>\n",
       "<table border=\"1\" class=\"dataframe\">\n",
       "  <thead>\n",
       "    <tr style=\"text-align: right;\">\n",
       "      <th></th>\n",
       "      <th>genres</th>\n",
       "      <th>app_name</th>\n",
       "      <th>release_date</th>\n",
       "      <th>item_id</th>\n",
       "      <th>user_id</th>\n",
       "      <th>item_name</th>\n",
       "      <th>playtime_forever</th>\n",
       "    </tr>\n",
       "  </thead>\n",
       "  <tbody>\n",
       "    <tr>\n",
       "      <th>0</th>\n",
       "      <td>['Action', 'Indie', 'Racing']</td>\n",
       "      <td>Carmageddon Max Pack</td>\n",
       "      <td>1997</td>\n",
       "      <td>282010</td>\n",
       "      <td>UTNerd24</td>\n",
       "      <td>Carmageddon Max Pack</td>\n",
       "      <td>5</td>\n",
       "    </tr>\n",
       "    <tr>\n",
       "      <th>1</th>\n",
       "      <td>['Action', 'Indie', 'Racing']</td>\n",
       "      <td>Carmageddon Max Pack</td>\n",
       "      <td>1997</td>\n",
       "      <td>282010</td>\n",
       "      <td>saint556</td>\n",
       "      <td>Carmageddon Max Pack</td>\n",
       "      <td>13</td>\n",
       "    </tr>\n",
       "    <tr>\n",
       "      <th>2</th>\n",
       "      <td>['Action', 'Indie', 'Racing']</td>\n",
       "      <td>Carmageddon Max Pack</td>\n",
       "      <td>1997</td>\n",
       "      <td>282010</td>\n",
       "      <td>chidvd</td>\n",
       "      <td>Carmageddon Max Pack</td>\n",
       "      <td>110</td>\n",
       "    </tr>\n",
       "    <tr>\n",
       "      <th>3</th>\n",
       "      <td>['Action', 'Indie', 'Racing']</td>\n",
       "      <td>Carmageddon Max Pack</td>\n",
       "      <td>1997</td>\n",
       "      <td>282010</td>\n",
       "      <td>aerpub</td>\n",
       "      <td>Carmageddon Max Pack</td>\n",
       "      <td>13</td>\n",
       "    </tr>\n",
       "    <tr>\n",
       "      <th>4</th>\n",
       "      <td>['Action', 'Indie', 'Racing']</td>\n",
       "      <td>Carmageddon Max Pack</td>\n",
       "      <td>1997</td>\n",
       "      <td>282010</td>\n",
       "      <td>76561198038374904</td>\n",
       "      <td>Carmageddon Max Pack</td>\n",
       "      <td>8</td>\n",
       "    </tr>\n",
       "    <tr>\n",
       "      <th>...</th>\n",
       "      <td>...</td>\n",
       "      <td>...</td>\n",
       "      <td>...</td>\n",
       "      <td>...</td>\n",
       "      <td>...</td>\n",
       "      <td>...</td>\n",
       "      <td>...</td>\n",
       "    </tr>\n",
       "    <tr>\n",
       "      <th>2779672</th>\n",
       "      <td>['Action']</td>\n",
       "      <td>Counter-Strike: Condition Zero</td>\n",
       "      <td>2004</td>\n",
       "      <td>80</td>\n",
       "      <td>MRSDT</td>\n",
       "      <td>Counter-Strike: Condition Zero</td>\n",
       "      <td>203</td>\n",
       "    </tr>\n",
       "    <tr>\n",
       "      <th>2779673</th>\n",
       "      <td>['Action']</td>\n",
       "      <td>Counter-Strike: Condition Zero</td>\n",
       "      <td>2004</td>\n",
       "      <td>80</td>\n",
       "      <td>76561198135391641</td>\n",
       "      <td>Counter-Strike: Condition Zero</td>\n",
       "      <td>244</td>\n",
       "    </tr>\n",
       "    <tr>\n",
       "      <th>2779674</th>\n",
       "      <td>['Action']</td>\n",
       "      <td>Counter-Strike: Condition Zero</td>\n",
       "      <td>2004</td>\n",
       "      <td>80</td>\n",
       "      <td>76561198135407430</td>\n",
       "      <td>Counter-Strike: Condition Zero</td>\n",
       "      <td>7</td>\n",
       "    </tr>\n",
       "    <tr>\n",
       "      <th>2779675</th>\n",
       "      <td>['Action']</td>\n",
       "      <td>Counter-Strike: Condition Zero</td>\n",
       "      <td>2004</td>\n",
       "      <td>80</td>\n",
       "      <td>76561198141352940</td>\n",
       "      <td>Counter-Strike: Condition Zero</td>\n",
       "      <td>9</td>\n",
       "    </tr>\n",
       "    <tr>\n",
       "      <th>2779676</th>\n",
       "      <td>['Action']</td>\n",
       "      <td>Counter-Strike: Condition Zero</td>\n",
       "      <td>2004</td>\n",
       "      <td>80</td>\n",
       "      <td>76561198146796603</td>\n",
       "      <td>Counter-Strike: Condition Zero</td>\n",
       "      <td>99</td>\n",
       "    </tr>\n",
       "  </tbody>\n",
       "</table>\n",
       "<p>2779677 rows × 7 columns</p>\n",
       "</div>"
      ],
      "text/plain": [
       "                                genres                        app_name  \\\n",
       "0        ['Action', 'Indie', 'Racing']            Carmageddon Max Pack   \n",
       "1        ['Action', 'Indie', 'Racing']            Carmageddon Max Pack   \n",
       "2        ['Action', 'Indie', 'Racing']            Carmageddon Max Pack   \n",
       "3        ['Action', 'Indie', 'Racing']            Carmageddon Max Pack   \n",
       "4        ['Action', 'Indie', 'Racing']            Carmageddon Max Pack   \n",
       "...                                ...                             ...   \n",
       "2779672                     ['Action']  Counter-Strike: Condition Zero   \n",
       "2779673                     ['Action']  Counter-Strike: Condition Zero   \n",
       "2779674                     ['Action']  Counter-Strike: Condition Zero   \n",
       "2779675                     ['Action']  Counter-Strike: Condition Zero   \n",
       "2779676                     ['Action']  Counter-Strike: Condition Zero   \n",
       "\n",
       "         release_date  item_id            user_id  \\\n",
       "0                1997   282010           UTNerd24   \n",
       "1                1997   282010           saint556   \n",
       "2                1997   282010             chidvd   \n",
       "3                1997   282010             aerpub   \n",
       "4                1997   282010  76561198038374904   \n",
       "...               ...      ...                ...   \n",
       "2779672          2004       80              MRSDT   \n",
       "2779673          2004       80  76561198135391641   \n",
       "2779674          2004       80  76561198135407430   \n",
       "2779675          2004       80  76561198141352940   \n",
       "2779676          2004       80  76561198146796603   \n",
       "\n",
       "                              item_name  playtime_forever  \n",
       "0                  Carmageddon Max Pack                 5  \n",
       "1                  Carmageddon Max Pack                13  \n",
       "2                  Carmageddon Max Pack               110  \n",
       "3                  Carmageddon Max Pack                13  \n",
       "4                  Carmageddon Max Pack                 8  \n",
       "...                                 ...               ...  \n",
       "2779672  Counter-Strike: Condition Zero               203  \n",
       "2779673  Counter-Strike: Condition Zero               244  \n",
       "2779674  Counter-Strike: Condition Zero                 7  \n",
       "2779675  Counter-Strike: Condition Zero                 9  \n",
       "2779676  Counter-Strike: Condition Zero                99  \n",
       "\n",
       "[2779677 rows x 7 columns]"
      ]
     },
     "execution_count": 23,
     "metadata": {},
     "output_type": "execute_result"
    }
   ],
   "source": [
    "copia3_df"
   ]
  },
  {
   "cell_type": "code",
   "execution_count": 24,
   "metadata": {},
   "outputs": [],
   "source": [
    "copia3_df = copia3_df[[\"genres\", \"release_date\", \"playtime_forever\",\"item_name\"]]\n"
   ]
  },
  {
   "cell_type": "code",
   "execution_count": null,
   "metadata": {},
   "outputs": [],
   "source": [
    "copia3_df['genres'] = copia3_df['genres'].apply(lambda x: x.strip(\"[]\").replace(\"'\", \"\").split(\", \"))\n",
    "\n",
    "copia3_df = copia3_df.explode('genres')"
   ]
  },
  {
   "cell_type": "code",
   "execution_count": 29,
   "metadata": {},
   "outputs": [],
   "source": [
    "copia3_df.drop(columns=['item_name'], inplace=True)\n"
   ]
  },
  {
   "cell_type": "code",
   "execution_count": 31,
   "metadata": {},
   "outputs": [],
   "source": [
    "copia3_df.to_csv(\"PlayTimeGenre.csv\", index=False)\n"
   ]
  },
  {
   "cell_type": "code",
   "execution_count": 7,
   "metadata": {},
   "outputs": [],
   "source": [
    "copia4_df=df2.copy()"
   ]
  },
  {
   "cell_type": "code",
   "execution_count": 10,
   "metadata": {},
   "outputs": [],
   "source": [
    "columnas_a_mantener = ['genres', 'user_id', 'playtime_forever', 'release_date']\n",
    "copia4_df = copia4_df[columnas_a_mantener]\n"
   ]
  },
  {
   "cell_type": "code",
   "execution_count": 11,
   "metadata": {},
   "outputs": [
    {
     "data": {
      "text/html": [
       "<div>\n",
       "<style scoped>\n",
       "    .dataframe tbody tr th:only-of-type {\n",
       "        vertical-align: middle;\n",
       "    }\n",
       "\n",
       "    .dataframe tbody tr th {\n",
       "        vertical-align: top;\n",
       "    }\n",
       "\n",
       "    .dataframe thead th {\n",
       "        text-align: right;\n",
       "    }\n",
       "</style>\n",
       "<table border=\"1\" class=\"dataframe\">\n",
       "  <thead>\n",
       "    <tr style=\"text-align: right;\">\n",
       "      <th></th>\n",
       "      <th>genres</th>\n",
       "      <th>user_id</th>\n",
       "      <th>playtime_forever</th>\n",
       "      <th>release_date</th>\n",
       "    </tr>\n",
       "  </thead>\n",
       "  <tbody>\n",
       "    <tr>\n",
       "      <th>0</th>\n",
       "      <td>['Action', 'Indie', 'Racing']</td>\n",
       "      <td>UTNerd24</td>\n",
       "      <td>5</td>\n",
       "      <td>1997</td>\n",
       "    </tr>\n",
       "    <tr>\n",
       "      <th>1</th>\n",
       "      <td>['Action', 'Indie', 'Racing']</td>\n",
       "      <td>saint556</td>\n",
       "      <td>13</td>\n",
       "      <td>1997</td>\n",
       "    </tr>\n",
       "    <tr>\n",
       "      <th>2</th>\n",
       "      <td>['Action', 'Indie', 'Racing']</td>\n",
       "      <td>chidvd</td>\n",
       "      <td>110</td>\n",
       "      <td>1997</td>\n",
       "    </tr>\n",
       "    <tr>\n",
       "      <th>3</th>\n",
       "      <td>['Action', 'Indie', 'Racing']</td>\n",
       "      <td>aerpub</td>\n",
       "      <td>13</td>\n",
       "      <td>1997</td>\n",
       "    </tr>\n",
       "    <tr>\n",
       "      <th>4</th>\n",
       "      <td>['Action', 'Indie', 'Racing']</td>\n",
       "      <td>76561198038374904</td>\n",
       "      <td>8</td>\n",
       "      <td>1997</td>\n",
       "    </tr>\n",
       "    <tr>\n",
       "      <th>...</th>\n",
       "      <td>...</td>\n",
       "      <td>...</td>\n",
       "      <td>...</td>\n",
       "      <td>...</td>\n",
       "    </tr>\n",
       "    <tr>\n",
       "      <th>2779672</th>\n",
       "      <td>['Action']</td>\n",
       "      <td>MRSDT</td>\n",
       "      <td>203</td>\n",
       "      <td>2004</td>\n",
       "    </tr>\n",
       "    <tr>\n",
       "      <th>2779673</th>\n",
       "      <td>['Action']</td>\n",
       "      <td>76561198135391641</td>\n",
       "      <td>244</td>\n",
       "      <td>2004</td>\n",
       "    </tr>\n",
       "    <tr>\n",
       "      <th>2779674</th>\n",
       "      <td>['Action']</td>\n",
       "      <td>76561198135407430</td>\n",
       "      <td>7</td>\n",
       "      <td>2004</td>\n",
       "    </tr>\n",
       "    <tr>\n",
       "      <th>2779675</th>\n",
       "      <td>['Action']</td>\n",
       "      <td>76561198141352940</td>\n",
       "      <td>9</td>\n",
       "      <td>2004</td>\n",
       "    </tr>\n",
       "    <tr>\n",
       "      <th>2779676</th>\n",
       "      <td>['Action']</td>\n",
       "      <td>76561198146796603</td>\n",
       "      <td>99</td>\n",
       "      <td>2004</td>\n",
       "    </tr>\n",
       "  </tbody>\n",
       "</table>\n",
       "<p>2779677 rows × 4 columns</p>\n",
       "</div>"
      ],
      "text/plain": [
       "                                genres            user_id  playtime_forever  \\\n",
       "0        ['Action', 'Indie', 'Racing']           UTNerd24                 5   \n",
       "1        ['Action', 'Indie', 'Racing']           saint556                13   \n",
       "2        ['Action', 'Indie', 'Racing']             chidvd               110   \n",
       "3        ['Action', 'Indie', 'Racing']             aerpub                13   \n",
       "4        ['Action', 'Indie', 'Racing']  76561198038374904                 8   \n",
       "...                                ...                ...               ...   \n",
       "2779672                     ['Action']              MRSDT               203   \n",
       "2779673                     ['Action']  76561198135391641               244   \n",
       "2779674                     ['Action']  76561198135407430                 7   \n",
       "2779675                     ['Action']  76561198141352940                 9   \n",
       "2779676                     ['Action']  76561198146796603                99   \n",
       "\n",
       "         release_date  \n",
       "0                1997  \n",
       "1                1997  \n",
       "2                1997  \n",
       "3                1997  \n",
       "4                1997  \n",
       "...               ...  \n",
       "2779672          2004  \n",
       "2779673          2004  \n",
       "2779674          2004  \n",
       "2779675          2004  \n",
       "2779676          2004  \n",
       "\n",
       "[2779677 rows x 4 columns]"
      ]
     },
     "execution_count": 11,
     "metadata": {},
     "output_type": "execute_result"
    }
   ],
   "source": [
    "copia4_df"
   ]
  },
  {
   "cell_type": "code",
   "execution_count": null,
   "metadata": {},
   "outputs": [],
   "source": [
    "copia4_df['genres'] = copia4_df['genres'].apply(lambda x: x.strip(\"[]\").replace(\"'\", \"\").split(\", \"))\n",
    "\n",
    "copia4_df = copia4_df.explode('genres')"
   ]
  },
  {
   "cell_type": "code",
   "execution_count": 18,
   "metadata": {},
   "outputs": [],
   "source": [
    "copia4_df.to_csv(\"UserForGenero.csv\", index=False)\n"
   ]
  }
 ],
 "metadata": {
  "kernelspec": {
   "display_name": "Python 3",
   "language": "python",
   "name": "python3"
  },
  "language_info": {
   "codemirror_mode": {
    "name": "ipython",
    "version": 3
   },
   "file_extension": ".py",
   "mimetype": "text/x-python",
   "name": "python",
   "nbconvert_exporter": "python",
   "pygments_lexer": "ipython3",
   "version": "3.11.4"
  },
  "orig_nbformat": 4
 },
 "nbformat": 4,
 "nbformat_minor": 2
}
