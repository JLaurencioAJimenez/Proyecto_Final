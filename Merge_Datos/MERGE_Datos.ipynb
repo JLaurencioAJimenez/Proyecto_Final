{
 "cells": [
  {
   "cell_type": "code",
   "execution_count": 37,
   "metadata": {},
   "outputs": [],
   "source": [
    "import pandas as pd"
   ]
  },
  {
   "cell_type": "code",
   "execution_count": 50,
   "metadata": {},
   "outputs": [],
   "source": [
    "df_games=pd.read_csv(\"Games_Entero2.csv\")\n",
    "df_reviews=pd.read_csv(\"Reviews_Entero2.csv\")\n",
    "#Archivo faltante ya que github no me dejaba subir ya que exedia el limite de 100mbm, remplazado por parquet\n",
    "df_items=pd.read_parquet(\"Items_Entero.parquet\")"
   ]
  },
  {
   "cell_type": "markdown",
   "metadata": {},
   "source": [
    "df_Reviews"
   ]
  },
  {
   "cell_type": "code",
   "execution_count": 51,
   "metadata": {},
   "outputs": [],
   "source": [
    "# Columnas de items que vamos a agregar a reviews\n",
    "columns_to_add = ['item_name', 'playtime_forever']\n",
    "\n",
    "# Iteramos a través de las filas de reviews\n",
    "for index, row in df_reviews.iterrows():\n",
    "    item_id = row['item_id']\n",
    "    # Buscamos el correspondiente registro en items\n",
    "    item_row = df_items[df_items['item_id'] == item_id]\n",
    "    if not item_row.empty:\n",
    "        # Agregamos las columnas de items a la fila de reviews actual\n",
    "        for column in columns_to_add:\n",
    "            df_reviews.at[index, column] = item_row.iloc[0][column]\n"
   ]
  },
  {
   "cell_type": "code",
   "execution_count": 52,
   "metadata": {},
   "outputs": [],
   "source": [
    "columns_to_add = ['genres']\n",
    "\n",
    "for index, row in df_reviews.iterrows():\n",
    "    item_id = row['item_id']\n",
    "    # Buscar el correspondiente registro en df_games\n",
    "    genre_row = df_games[df_games['item_id'] == item_id]\n",
    "    if not genre_row.empty:\n",
    "        # Agregar las columnas de género a la fila de reseñas actual\n",
    "        for column in columns_to_add:\n",
    "            df_reviews.at[index, column] = genre_row[column].values[0]\n",
    "\n",
    "# Ahora df_reviews tiene las columnas de género agregadas\n"
   ]
  },
  {
   "cell_type": "code",
   "execution_count": 53,
   "metadata": {},
   "outputs": [],
   "source": [
    "# Eliminar filas con valores NaN en df_reviews y sobrescribir el DataFrame\n",
    "df_reviews.dropna(inplace=True)"
   ]
  },
  {
   "cell_type": "code",
   "execution_count": 54,
   "metadata": {},
   "outputs": [],
   "source": [
    "# Eliminar las columnas recommend, sentiment_analysis y item_name de df_reviews\n",
    "columns_to_drop = ['recommend', 'sentiment_analysis', 'item_name']\n",
    "df_reviews.drop(columns=columns_to_drop, inplace=True)\n"
   ]
  },
  {
   "cell_type": "code",
   "execution_count": 64,
   "metadata": {},
   "outputs": [],
   "source": [
    "genres_df=df_games"
   ]
  },
  {
   "cell_type": "code",
   "execution_count": 59,
   "metadata": {},
   "outputs": [],
   "source": [
    "elimina= [\"app_name\",\"release_date\"]"
   ]
  },
  {
   "cell_type": "code",
   "execution_count": 65,
   "metadata": {},
   "outputs": [
    {
     "data": {
      "text/html": [
       "<div>\n",
       "<style scoped>\n",
       "    .dataframe tbody tr th:only-of-type {\n",
       "        vertical-align: middle;\n",
       "    }\n",
       "\n",
       "    .dataframe tbody tr th {\n",
       "        vertical-align: top;\n",
       "    }\n",
       "\n",
       "    .dataframe thead th {\n",
       "        text-align: right;\n",
       "    }\n",
       "</style>\n",
       "<table border=\"1\" class=\"dataframe\">\n",
       "  <thead>\n",
       "    <tr style=\"text-align: right;\">\n",
       "      <th></th>\n",
       "      <th>genres</th>\n",
       "      <th>item_id</th>\n",
       "    </tr>\n",
       "  </thead>\n",
       "  <tbody>\n",
       "    <tr>\n",
       "      <th>0</th>\n",
       "      <td>['Action', 'Casual', 'Indie', 'Simulation', 'S...</td>\n",
       "      <td>761140</td>\n",
       "    </tr>\n",
       "    <tr>\n",
       "      <th>1</th>\n",
       "      <td>['Free to Play', 'Indie', 'RPG', 'Strategy']</td>\n",
       "      <td>643980</td>\n",
       "    </tr>\n",
       "    <tr>\n",
       "      <th>2</th>\n",
       "      <td>['Casual', 'Free to Play', 'Indie', 'Simulatio...</td>\n",
       "      <td>670290</td>\n",
       "    </tr>\n",
       "    <tr>\n",
       "      <th>3</th>\n",
       "      <td>['Action', 'Adventure', 'Casual']</td>\n",
       "      <td>767400</td>\n",
       "    </tr>\n",
       "    <tr>\n",
       "      <th>4</th>\n",
       "      <td>['Action', 'Adventure', 'Simulation']</td>\n",
       "      <td>772540</td>\n",
       "    </tr>\n",
       "    <tr>\n",
       "      <th>...</th>\n",
       "      <td>...</td>\n",
       "      <td>...</td>\n",
       "    </tr>\n",
       "    <tr>\n",
       "      <th>28542</th>\n",
       "      <td>['Action', 'Adventure', 'Casual', 'Indie']</td>\n",
       "      <td>745400</td>\n",
       "    </tr>\n",
       "    <tr>\n",
       "      <th>28543</th>\n",
       "      <td>['Casual', 'Indie', 'Simulation', 'Strategy']</td>\n",
       "      <td>773640</td>\n",
       "    </tr>\n",
       "    <tr>\n",
       "      <th>28544</th>\n",
       "      <td>['Casual', 'Indie', 'Strategy']</td>\n",
       "      <td>733530</td>\n",
       "    </tr>\n",
       "    <tr>\n",
       "      <th>28545</th>\n",
       "      <td>['Indie', 'Racing', 'Simulation']</td>\n",
       "      <td>610660</td>\n",
       "    </tr>\n",
       "    <tr>\n",
       "      <th>28546</th>\n",
       "      <td>['Casual', 'Indie']</td>\n",
       "      <td>658870</td>\n",
       "    </tr>\n",
       "  </tbody>\n",
       "</table>\n",
       "<p>28547 rows × 2 columns</p>\n",
       "</div>"
      ],
      "text/plain": [
       "                                                  genres  item_id\n",
       "0      ['Action', 'Casual', 'Indie', 'Simulation', 'S...   761140\n",
       "1           ['Free to Play', 'Indie', 'RPG', 'Strategy']   643980\n",
       "2      ['Casual', 'Free to Play', 'Indie', 'Simulatio...   670290\n",
       "3                      ['Action', 'Adventure', 'Casual']   767400\n",
       "4                  ['Action', 'Adventure', 'Simulation']   772540\n",
       "...                                                  ...      ...\n",
       "28542         ['Action', 'Adventure', 'Casual', 'Indie']   745400\n",
       "28543      ['Casual', 'Indie', 'Simulation', 'Strategy']   773640\n",
       "28544                    ['Casual', 'Indie', 'Strategy']   733530\n",
       "28545                  ['Indie', 'Racing', 'Simulation']   610660\n",
       "28546                                ['Casual', 'Indie']   658870\n",
       "\n",
       "[28547 rows x 2 columns]"
      ]
     },
     "execution_count": 65,
     "metadata": {},
     "output_type": "execute_result"
    }
   ],
   "source": [
    "genres_df"
   ]
  },
  {
   "cell_type": "code",
   "execution_count": 67,
   "metadata": {},
   "outputs": [],
   "source": [
    "# Definir las columnas a agregar desde genres_df\n",
    "columns_to_add = ['genres']\n",
    "\n",
    "for index, row in df_reviews.iterrows():\n",
    "    item_id = row['item_id']\n",
    "    # Buscar el correspondiente registro en genres_df\n",
    "    genre_row = genres_df[genres_df['item_id'] == item_id]\n",
    "    if not genre_row.empty:\n",
    "        # Agregar la columna de género a la fila de reseñas actual\n",
    "        df_reviews.at[index, 'genres'] = genre_row['genres'].values[0]\n",
    "\n",
    "# Ahora df_reviews contiene la columna de género agregada\n"
   ]
  },
  {
   "cell_type": "code",
   "execution_count": 75,
   "metadata": {},
   "outputs": [],
   "source": [
    "# Guardar el DataFrame df_reviews como UserForGenero.csv en el directorio actual\n",
    "df_reviews.to_csv(\"UserForGenero.csv\", index=False)\n"
   ]
  }
 ],
 "metadata": {
  "kernelspec": {
   "display_name": "Python 3",
   "language": "python",
   "name": "python3"
  },
  "language_info": {
   "codemirror_mode": {
    "name": "ipython",
    "version": 3
   },
   "file_extension": ".py",
   "mimetype": "text/x-python",
   "name": "python",
   "nbconvert_exporter": "python",
   "pygments_lexer": "ipython3",
   "version": "3.11.4"
  },
  "orig_nbformat": 4
 },
 "nbformat": 4,
 "nbformat_minor": 2
}
